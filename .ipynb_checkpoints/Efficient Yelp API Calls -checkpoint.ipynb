{
 "cells": [
  {
   "cell_type": "markdown",
   "id": "8945a0f2",
   "metadata": {},
   "source": [
    "# Import and Load API "
   ]
  },
  {
   "cell_type": "code",
   "execution_count": 30,
   "id": "f85389b6",
   "metadata": {},
   "outputs": [],
   "source": [
    "# Standard Imports\n",
    "import numpy as np\n",
    "import pandas as pd\n",
    "import matplotlib.pyplot as plt\n",
    "import seaborn as sns\n",
    "# Additional Imports\n",
    "import os, json, math, time\n",
    "from yelpapi import YelpAPI\n",
    "from tqdm.notebook import tqdm_notebook"
   ]
  },
  {
   "cell_type": "code",
   "execution_count": 31,
   "id": "49438ae9",
   "metadata": {},
   "outputs": [
    {
     "name": "stdout",
     "output_type": "stream",
     "text": [
      "Requirement already satisfied: tqdm in c:\\users\\alexander\\anaconda3\\envs\\dojo-env\\lib\\site-packages (4.64.1)\n",
      "Requirement already satisfied: colorama in c:\\users\\alexander\\anaconda3\\envs\\dojo-env\\lib\\site-packages (from tqdm) (0.4.5)\n"
     ]
    }
   ],
   "source": [
    "# Install tmdbsimple (only need to run once)\n",
    "!pip install tqdm"
   ]
  },
  {
   "cell_type": "code",
   "execution_count": 32,
   "id": "4ed87363",
   "metadata": {},
   "outputs": [],
   "source": [
    "# Load API Credentials\n",
    "with open('/Users/Alexander/.secret/yelp_api.json') as f:  \n",
    "    login = json.load(f)\n",
    "# Instantiate YelpAPI Variable\n",
    "yelp_api = YelpAPI(login['api-key'], timeout_s=5.0)"
   ]
  },
  {
   "cell_type": "code",
   "execution_count": 33,
   "id": "dc5a821c",
   "metadata": {},
   "outputs": [],
   "source": [
    "# set our API call parameters \n",
    "LOCATION = 'Philadelphia,PA'\n",
    "TERM = 'Cheesesteak'"
   ]
  },
  {
   "cell_type": "code",
   "execution_count": 34,
   "id": "d38aab91",
   "metadata": {},
   "outputs": [
    {
     "data": {
      "text/plain": [
       "'Data/results_in_progress_Philly_cheesesteak.json'"
      ]
     },
     "execution_count": 34,
     "metadata": {},
     "output_type": "execute_result"
    }
   ],
   "source": [
    "# Specifying JSON_FILE filename (can include a folder)\n",
    "# include the search terms in the filename\n",
    "JSON_FILE = \"Data/results_in_progress_Philly_cheesesteak.json\"\n",
    "JSON_FILE"
   ]
  },
  {
   "cell_type": "code",
   "execution_count": 35,
   "id": "c6e6d3ab",
   "metadata": {},
   "outputs": [
    {
     "name": "stdout",
     "output_type": "stream",
     "text": [
      "[i] Data/results_in_progress_Philly_cheesesteak.json not found. Saving empty list to file.\n"
     ]
    }
   ],
   "source": [
    "## Check if JSON_FILE exists\n",
    "file_exists = os.path.isfile(JSON_FILE)\n",
    "## If it does not exist: \n",
    "if file_exists == False:\n",
    "    \n",
    "    ## CREATE ANY NEEDED FOLDERS\n",
    "    # Get the Folder Name only\n",
    "    folder = os.path.dirname(JSON_FILE)\n",
    "    ## If JSON_FILE included a folder:\n",
    "    if len(folder)>0:\n",
    "        # create the folder\n",
    "        os.makedirs(folder,exist_ok=True)\n",
    "        \n",
    "        \n",
    "    ## INFORM USER AND SAVE EMPTY LIST\n",
    "    print(f'[i] {JSON_FILE} not found. Saving empty list to file.')\n",
    "    \n",
    "    \n",
    "    # save an empty list\n",
    "    with open(JSON_FILE,'w') as f:\n",
    "        json.dump([],f)  \n",
    "# If it exists, inform user\n",
    "else:\n",
    "    print(f\"[i] {JSON_FILE} already exists.\")"
   ]
  },
  {
   "cell_type": "code",
   "execution_count": 36,
   "id": "6de2a0be",
   "metadata": {},
   "outputs": [
    {
     "name": "stdout",
     "output_type": "stream",
     "text": [
      "- 0 previous results found.\n"
     ]
    }
   ],
   "source": [
    "## Load previous results and use len of results for offset\n",
    "with open(JSON_FILE,'r') as f:\n",
    "    previous_results = json.load(f)\n",
    "    \n",
    "## set offset based on previous results\n",
    "n_results = len(previous_results)\n",
    "print(f'- {n_results} previous results found.')"
   ]
  },
  {
   "cell_type": "code",
   "execution_count": 37,
   "id": "81cbd6a5",
   "metadata": {},
   "outputs": [
    {
     "data": {
      "text/plain": [
       "dict_keys(['businesses', 'total', 'region'])"
      ]
     },
     "execution_count": 37,
     "metadata": {},
     "output_type": "execute_result"
    }
   ],
   "source": [
    "# use our yelp_api variable's search_query method to perform our API call\n",
    "results = yelp_api.search_query(location=LOCATION,\n",
    "                                term=TERM,\n",
    "                               offset=n_results)\n",
    "results.keys()"
   ]
  },
  {
   "cell_type": "code",
   "execution_count": 38,
   "id": "b8230fba",
   "metadata": {},
   "outputs": [
    {
     "data": {
      "text/plain": [
       "3800"
      ]
     },
     "execution_count": 38,
     "metadata": {},
     "output_type": "execute_result"
    }
   ],
   "source": [
    "## How many results total?\n",
    "total_results = results['total']\n",
    "total_results"
   ]
  },
  {
   "cell_type": "code",
   "execution_count": 39,
   "id": "c221389c",
   "metadata": {},
   "outputs": [
    {
     "data": {
      "text/plain": [
       "20"
      ]
     },
     "execution_count": 39,
     "metadata": {},
     "output_type": "execute_result"
    }
   ],
   "source": [
    "## How many did we get the details for?\n",
    "results_per_page = len(results['businesses'])\n",
    "results_per_page\n",
    "# We can pull 20 per page "
   ]
  },
  {
   "cell_type": "code",
   "execution_count": 40,
   "id": "ba25682a",
   "metadata": {},
   "outputs": [
    {
     "data": {
      "text/plain": [
       "190"
      ]
     },
     "execution_count": 40,
     "metadata": {},
     "output_type": "execute_result"
    }
   ],
   "source": [
    "# Import additional packages for controlling our loop\n",
    "import time, math\n",
    "# Use math.ceil to round up for the total number of pages of results.\n",
    "n_pages = math.ceil((results['total']-n_results)/ results_per_page)\n",
    "n_pages"
   ]
  },
  {
   "cell_type": "code",
   "execution_count": 41,
   "id": "3a4dd5ff",
   "metadata": {},
   "outputs": [],
   "source": [
    "# join new results with old list with extend and save to file\n",
    "previous_results.extend(results['businesses'])  \n",
    "with open(JSON_FILE,'w') as f:\n",
    "     json.dump(previous_results,f)"
   ]
  },
  {
   "cell_type": "markdown",
   "id": "9a22b23c",
   "metadata": {},
   "source": [
    "## For Loop"
   ]
  },
  {
   "cell_type": "code",
   "execution_count": 42,
   "id": "5d9faad6",
   "metadata": {},
   "outputs": [
    {
     "data": {
      "application/vnd.jupyter.widget-view+json": {
       "model_id": "396f4d07ca794c69baed2fd49a361eab",
       "version_major": 2,
       "version_minor": 0
      },
      "text/plain": [
       "  0%|          | 0/190 [00:00<?, ?it/s]"
      ]
     },
     "metadata": {},
     "output_type": "display_data"
    }
   ],
   "source": [
    "#TQDM is easy to use and simply needs to know what we are looping through. \n",
    "#If you wanted to test tqdm in action, but your loop is too fast, \n",
    "#you can import time and use time.sleep to add a pause within your for loop. \n",
    "# We will also use time.sleep when executing many API calls so that we do not overwhelm the server.\n",
    "from tqdm.notebook import tqdm_notebook\n",
    "import time\n",
    "for i in tqdm_notebook(range(n_pages)):\n",
    "    # adds 200 ms pause\n",
    "    time.sleep(.2) "
   ]
  },
  {
   "cell_type": "code",
   "execution_count": 43,
   "id": "cdfb684d",
   "metadata": {},
   "outputs": [
    {
     "data": {
      "application/vnd.jupyter.widget-view+json": {
       "model_id": "e8a02d39f97e4af9b3a9879984a78566",
       "version_major": 2,
       "version_minor": 0
      },
      "text/plain": [
       "  0%|          | 0/190 [00:00<?, ?it/s]"
      ]
     },
     "metadata": {},
     "output_type": "display_data"
    },
    {
     "ename": "YelpAPIError",
     "evalue": "VALIDATION_ERROR: Too many results requested, limit+offset must be <= 1000.",
     "output_type": "error",
     "traceback": [
      "\u001b[1;31m---------------------------------------------------------------------------\u001b[0m",
      "\u001b[1;31mYelpAPIError\u001b[0m                              Traceback (most recent call last)",
      "Cell \u001b[1;32mIn [43], line 9\u001b[0m\n\u001b[0;32m      7\u001b[0m n_results \u001b[38;5;241m=\u001b[39m \u001b[38;5;28mlen\u001b[39m(previous_results)\n\u001b[0;32m      8\u001b[0m \u001b[38;5;66;03m## use n_results as the OFFSET \u001b[39;00m\n\u001b[1;32m----> 9\u001b[0m results \u001b[38;5;241m=\u001b[39m yelp_api\u001b[38;5;241m.\u001b[39msearch_query(location\u001b[38;5;241m=\u001b[39mLOCATION,\n\u001b[0;32m     10\u001b[0m                                 term\u001b[38;5;241m=\u001b[39mTERM, \n\u001b[0;32m     11\u001b[0m                                 offset\u001b[38;5;241m=\u001b[39mn_results)\n\u001b[0;32m     13\u001b[0m \u001b[38;5;66;03m## append new results and save to file\u001b[39;00m\n\u001b[0;32m     14\u001b[0m previous_results\u001b[38;5;241m.\u001b[39mextend(results[\u001b[38;5;124m'\u001b[39m\u001b[38;5;124mbusinesses\u001b[39m\u001b[38;5;124m'\u001b[39m])\n",
      "File \u001b[1;32m~\\anaconda3\\envs\\dojo-env\\lib\\site-packages\\yelpapi\\yelpapi.py:234\u001b[0m, in \u001b[0;36mYelpAPI.search_query\u001b[1;34m(self, **kwargs)\u001b[0m\n\u001b[0;32m    230\u001b[0m \u001b[38;5;28;01mif\u001b[39;00m \u001b[38;5;129;01mnot\u001b[39;00m kwargs\u001b[38;5;241m.\u001b[39mget(\u001b[38;5;124m'\u001b[39m\u001b[38;5;124mlocation\u001b[39m\u001b[38;5;124m'\u001b[39m) \u001b[38;5;129;01mand\u001b[39;00m (\u001b[38;5;129;01mnot\u001b[39;00m kwargs\u001b[38;5;241m.\u001b[39mget(\u001b[38;5;124m'\u001b[39m\u001b[38;5;124mlatitude\u001b[39m\u001b[38;5;124m'\u001b[39m) \u001b[38;5;129;01mor\u001b[39;00m \u001b[38;5;129;01mnot\u001b[39;00m kwargs\u001b[38;5;241m.\u001b[39mget(\u001b[38;5;124m'\u001b[39m\u001b[38;5;124mlongitude\u001b[39m\u001b[38;5;124m'\u001b[39m)):\n\u001b[0;32m    231\u001b[0m     \u001b[38;5;28;01mraise\u001b[39;00m \u001b[38;5;167;01mValueError\u001b[39;00m(\u001b[38;5;124m'\u001b[39m\u001b[38;5;124mA valid location (parameter \u001b[39m\u001b[38;5;124m\"\u001b[39m\u001b[38;5;124mlocation\u001b[39m\u001b[38;5;124m\"\u001b[39m\u001b[38;5;124m) or latitude/longitude combination \u001b[39m\u001b[38;5;124m'\u001b[39m\n\u001b[0;32m    232\u001b[0m                      \u001b[38;5;124m'\u001b[39m\u001b[38;5;124m(parameters \u001b[39m\u001b[38;5;124m\"\u001b[39m\u001b[38;5;124mlatitude\u001b[39m\u001b[38;5;124m\"\u001b[39m\u001b[38;5;124m and \u001b[39m\u001b[38;5;124m\"\u001b[39m\u001b[38;5;124mlongitude\u001b[39m\u001b[38;5;124m\"\u001b[39m\u001b[38;5;124m) must be provided.\u001b[39m\u001b[38;5;124m'\u001b[39m)\n\u001b[1;32m--> 234\u001b[0m \u001b[38;5;28;01mreturn\u001b[39;00m \u001b[38;5;28;43mself\u001b[39;49m\u001b[38;5;241;43m.\u001b[39;49m\u001b[43m_query\u001b[49m\u001b[43m(\u001b[49m\u001b[43mSEARCH_API_URL\u001b[49m\u001b[43m,\u001b[49m\u001b[43m \u001b[49m\u001b[38;5;241;43m*\u001b[39;49m\u001b[38;5;241;43m*\u001b[39;49m\u001b[43mkwargs\u001b[49m\u001b[43m)\u001b[49m\n",
      "File \u001b[1;32m~\\anaconda3\\envs\\dojo-env\\lib\\site-packages\\yelpapi\\yelpapi.py:282\u001b[0m, in \u001b[0;36mYelpAPI._query\u001b[1;34m(self, url, **kwargs)\u001b[0m\n\u001b[0;32m    278\u001b[0m \u001b[38;5;66;03m# Yelp can return one of many different API errors, so check for one of them.\u001b[39;00m\n\u001b[0;32m    279\u001b[0m \u001b[38;5;66;03m# The Yelp Fusion API does not yet have a complete list of errors, but this is on the TODO list; see\u001b[39;00m\n\u001b[0;32m    280\u001b[0m \u001b[38;5;66;03m# https://github.com/Yelp/yelp-fusion/issues/95 for more info.\u001b[39;00m\n\u001b[0;32m    281\u001b[0m \u001b[38;5;28;01mif\u001b[39;00m \u001b[38;5;124m'\u001b[39m\u001b[38;5;124merror\u001b[39m\u001b[38;5;124m'\u001b[39m \u001b[38;5;129;01min\u001b[39;00m response_json:\n\u001b[1;32m--> 282\u001b[0m     \u001b[38;5;28;01mraise\u001b[39;00m YelpAPI\u001b[38;5;241m.\u001b[39mYelpAPIError(\u001b[38;5;124m'\u001b[39m\u001b[38;5;132;01m{}\u001b[39;00m\u001b[38;5;124m: \u001b[39m\u001b[38;5;132;01m{}\u001b[39;00m\u001b[38;5;124m'\u001b[39m\u001b[38;5;241m.\u001b[39mformat(response_json[\u001b[38;5;124m'\u001b[39m\u001b[38;5;124merror\u001b[39m\u001b[38;5;124m'\u001b[39m][\u001b[38;5;124m'\u001b[39m\u001b[38;5;124mcode\u001b[39m\u001b[38;5;124m'\u001b[39m],\n\u001b[0;32m    283\u001b[0m                                                response_json[\u001b[38;5;124m'\u001b[39m\u001b[38;5;124merror\u001b[39m\u001b[38;5;124m'\u001b[39m][\u001b[38;5;124m'\u001b[39m\u001b[38;5;124mdescription\u001b[39m\u001b[38;5;124m'\u001b[39m]))\n\u001b[0;32m    285\u001b[0m \u001b[38;5;66;03m# we got a good response, so return\u001b[39;00m\n\u001b[0;32m    286\u001b[0m \u001b[38;5;28;01mreturn\u001b[39;00m response_json\n",
      "\u001b[1;31mYelpAPIError\u001b[0m: VALIDATION_ERROR: Too many results requested, limit+offset must be <= 1000."
     ]
    }
   ],
   "source": [
    "for i in tqdm_notebook( range(1,n_pages+1)):\n",
    "    \n",
    "    ## Read in results in progress file and check the length\n",
    "    with open(JSON_FILE, 'r') as f:\n",
    "        previous_results = json.load(f)\n",
    "    ## save number of results for to use as offset\n",
    "    n_results = len(previous_results)\n",
    "    ## use n_results as the OFFSET \n",
    "    results = yelp_api.search_query(location=LOCATION,\n",
    "                                    term=TERM, \n",
    "                                    offset=n_results)\n",
    "    \n",
    "    ## append new results and save to file\n",
    "    previous_results.extend(results['businesses'])\n",
    "    \n",
    "    with open(JSON_FILE,'w') as f:\n",
    "        json.dump(previous_results,f)\n",
    "    \n",
    "    # add a 200ms pause\n",
    "    time.sleep(.2)\n",
    "    \n",
    "    # Too many results results for the free version "
   ]
  },
  {
   "cell_type": "code",
   "execution_count": 44,
   "id": "a31244d3",
   "metadata": {},
   "outputs": [
    {
     "data": {
      "text/plain": [
       "False"
      ]
     },
     "execution_count": 44,
     "metadata": {},
     "output_type": "execute_result"
    }
   ],
   "source": [
    "## delete file and confirm it no longer exits.\n",
    "os.remove(JSON_FILE)\n",
    "os.path.isfile(JSON_FILE)"
   ]
  },
  {
   "cell_type": "code",
   "execution_count": 45,
   "id": "ba093b4d",
   "metadata": {},
   "outputs": [],
   "source": [
    "def create_json_file(JSON_FILE,  delete_if_exists=False):\n",
    "    \n",
    "    ## Check if JSON_FILE exists\n",
    "    file_exists = os.path.isfile(JSON_FILE)\n",
    "    \n",
    "    ## If it DOES exist:\n",
    "    if file_exists == True:\n",
    "        \n",
    "        ## Check if user wants to delete if exists\n",
    "        if delete_if_exists==True:\n",
    "            \n",
    "            print(f\"[!] {JSON_FILE} already exists. Deleting previous file...\")\n",
    "            ## delete file and confirm it no longer exits.\n",
    "            os.remove(JSON_FILE)\n",
    "            ## Recursive call to function after old file deleted\n",
    "            create_json_file(JSON_FILE,delete_if_exists=False)\n",
    "        else:\n",
    "            print(f\"[i] {JSON_FILE} already exists.\")            \n",
    "            \n",
    "            \n",
    "    ## If it does NOT exist:\n",
    "    else:\n",
    "        \n",
    "        ## INFORM USER AND SAVE EMPTY LIST\n",
    "        print(f\"[i] {JSON_FILE} not found. Saving empty list to new file.\")\n",
    "        \n",
    "        ## CREATE ANY NEEDED FOLDERS\n",
    "        # Get the Folder Name only\n",
    "        folder = os.path.dirname(JSON_FILE)\n",
    "        \n",
    "        ## If JSON_FILE included a folder:\n",
    "        if len(folder)>0:\n",
    "            # create the folder\n",
    "            os.makedirs(folder,exist_ok=True)\n",
    "        ## Save empty list to start the json file\n",
    "        with open(JSON_FILE,'w') as f:\n",
    "            json.dump([],f)  "
   ]
  },
  {
   "cell_type": "code",
   "execution_count": 46,
   "id": "3cbd53e4",
   "metadata": {},
   "outputs": [
    {
     "name": "stdout",
     "output_type": "stream",
     "text": [
      "[i] Data/results_in_progress_Philly_cheesesteak.json not found. Saving empty list to new file.\n",
      "- 0 previous results found.\n"
     ]
    },
    {
     "data": {
      "text/plain": [
       "190"
      ]
     },
     "execution_count": 46,
     "metadata": {},
     "output_type": "execute_result"
    }
   ],
   "source": [
    "## Create a new empty json file (exist the previous if it exists)\n",
    "create_json_file(JSON_FILE, delete_if_exists=True)\n",
    "## Load previous results and use len of results for offset\n",
    "with open(JSON_FILE,'r') as f:\n",
    "    previous_results = json.load(f)\n",
    "    \n",
    "## set offset based on previous results\n",
    "n_results = len(previous_results)\n",
    "print(f'- {n_results} previous results found.')\n",
    "# use our yelp_api variable's search_query method to perform our API call\n",
    "results = yelp_api.search_query(location=LOCATION,\n",
    "                                term=TERM,\n",
    "                               offset=n_results)\n",
    "## How many results total?\n",
    "total_results = results['total']\n",
    "## How many did we get the details for?\n",
    "results_per_page = len(results['businesses'])\n",
    "# Use math.ceil to round up for the total number of pages of results.\n",
    "n_pages = math.ceil((results['total']-n_results)/ results_per_page)\n",
    "n_pages"
   ]
  },
  {
   "cell_type": "code",
   "execution_count": 47,
   "id": "5a63d2bd",
   "metadata": {},
   "outputs": [
    {
     "data": {
      "application/vnd.jupyter.widget-view+json": {
       "model_id": "e8f06ea755cd45739e48fa62be21b3b6",
       "version_major": 2,
       "version_minor": 0
      },
      "text/plain": [
       "  0%|          | 0/190 [00:00<?, ?it/s]"
      ]
     },
     "metadata": {},
     "output_type": "display_data"
    },
    {
     "name": "stdout",
     "output_type": "stream",
     "text": [
      "Exceeded 1000 api calls. Stopping loop.\n"
     ]
    }
   ],
   "source": [
    "for i in tqdm_notebook( range(1,n_pages+1)):\n",
    "    \n",
    "    ## Read in results in progress file and check the length\n",
    "    with open(JSON_FILE, 'r') as f:\n",
    "        previous_results = json.load(f)\n",
    "    ## save number of results for to use as offset\n",
    "    n_results = len(previous_results)\n",
    "    \n",
    "    if (n_results + results_per_page) > 1000:\n",
    "        print('Exceeded 1000 api calls. Stopping loop.')\n",
    "        break\n",
    "    \n",
    "    ## use n_results as the OFFSET \n",
    "    results = yelp_api.search_query(location=LOCATION,\n",
    "                                    term=TERM, \n",
    "                                    offset=n_results)\n",
    "    \n",
    "    \n",
    "    \n",
    "    ## append new results and save to file\n",
    "    previous_results.extend(results['businesses'])\n",
    "    \n",
    "    # display(previous_results)\n",
    "    with open(JSON_FILE,'w') as f:\n",
    "        json.dump(previous_results,f)\n",
    "    \n",
    "    time.sleep(.2)"
   ]
  },
  {
   "cell_type": "code",
   "execution_count": 48,
   "id": "d3c6e5e9",
   "metadata": {},
   "outputs": [
    {
     "data": {
      "text/html": [
       "<div>\n",
       "<style scoped>\n",
       "    .dataframe tbody tr th:only-of-type {\n",
       "        vertical-align: middle;\n",
       "    }\n",
       "\n",
       "    .dataframe tbody tr th {\n",
       "        vertical-align: top;\n",
       "    }\n",
       "\n",
       "    .dataframe thead th {\n",
       "        text-align: right;\n",
       "    }\n",
       "</style>\n",
       "<table border=\"1\" class=\"dataframe\">\n",
       "  <thead>\n",
       "    <tr style=\"text-align: right;\">\n",
       "      <th></th>\n",
       "      <th>id</th>\n",
       "      <th>alias</th>\n",
       "      <th>name</th>\n",
       "      <th>image_url</th>\n",
       "      <th>is_closed</th>\n",
       "      <th>url</th>\n",
       "      <th>review_count</th>\n",
       "      <th>categories</th>\n",
       "      <th>rating</th>\n",
       "      <th>coordinates</th>\n",
       "      <th>transactions</th>\n",
       "      <th>price</th>\n",
       "      <th>location</th>\n",
       "      <th>phone</th>\n",
       "      <th>display_phone</th>\n",
       "      <th>distance</th>\n",
       "    </tr>\n",
       "  </thead>\n",
       "  <tbody>\n",
       "    <tr>\n",
       "      <th>0</th>\n",
       "      <td>RQAF6a0akMiot5lZZnMNNw</td>\n",
       "      <td>dalessandro-s-steaks-and-hoagies-philadelphia</td>\n",
       "      <td>Dalessandro’s Steaks &amp; Hoagies</td>\n",
       "      <td>https://s3-media1.fl.yelpcdn.com/bphoto/MRvZIW...</td>\n",
       "      <td>False</td>\n",
       "      <td>https://www.yelp.com/biz/dalessandro-s-steaks-...</td>\n",
       "      <td>2952</td>\n",
       "      <td>[{'alias': 'sandwiches', 'title': 'Sandwiches'...</td>\n",
       "      <td>4.0</td>\n",
       "      <td>{'latitude': 40.029494, 'longitude': -75.2059714}</td>\n",
       "      <td>[delivery]</td>\n",
       "      <td>$$</td>\n",
       "      <td>{'address1': '600 Wendover St', 'address2': ''...</td>\n",
       "      <td>+12154825407</td>\n",
       "      <td>(215) 482-5407</td>\n",
       "      <td>8924.599279</td>\n",
       "    </tr>\n",
       "    <tr>\n",
       "      <th>1</th>\n",
       "      <td>jxEMFqwDJXjCxmcm5t5jVQ</td>\n",
       "      <td>cleavers-philadelphia</td>\n",
       "      <td>Cleavers</td>\n",
       "      <td>https://s3-media1.fl.yelpcdn.com/bphoto/9dfyW_...</td>\n",
       "      <td>False</td>\n",
       "      <td>https://www.yelp.com/biz/cleavers-philadelphia...</td>\n",
       "      <td>1440</td>\n",
       "      <td>[{'alias': 'cheesesteaks', 'title': 'Cheeseste...</td>\n",
       "      <td>4.0</td>\n",
       "      <td>{'latitude': 39.9513931274414, 'longitude': -7...</td>\n",
       "      <td>[pickup, delivery]</td>\n",
       "      <td>$$</td>\n",
       "      <td>{'address1': '108 S 18th St', 'address2': '', ...</td>\n",
       "      <td>+12155153828</td>\n",
       "      <td>(215) 515-3828</td>\n",
       "      <td>268.685385</td>\n",
       "    </tr>\n",
       "    <tr>\n",
       "      <th>2</th>\n",
       "      <td>-mIlmp5l4hKlp1tvHRdvTg</td>\n",
       "      <td>sonnys-famous-steaks-philadelphia</td>\n",
       "      <td>Sonny's Famous Steaks</td>\n",
       "      <td>https://s3-media2.fl.yelpcdn.com/bphoto/c333HA...</td>\n",
       "      <td>False</td>\n",
       "      <td>https://www.yelp.com/biz/sonnys-famous-steaks-...</td>\n",
       "      <td>1811</td>\n",
       "      <td>[{'alias': 'cheesesteaks', 'title': 'Cheeseste...</td>\n",
       "      <td>4.0</td>\n",
       "      <td>{'latitude': 39.94982923010674, 'longitude': -...</td>\n",
       "      <td>[pickup, delivery]</td>\n",
       "      <td>$$</td>\n",
       "      <td>{'address1': '228 Market St', 'address2': '', ...</td>\n",
       "      <td>+12156295760</td>\n",
       "      <td>(215) 629-5760</td>\n",
       "      <td>2293.831534</td>\n",
       "    </tr>\n",
       "    <tr>\n",
       "      <th>3</th>\n",
       "      <td>7pAgxBMUjrVPH7xh3fn-gw</td>\n",
       "      <td>oh-brother-philly-philadelphia</td>\n",
       "      <td>Oh Brother Philly</td>\n",
       "      <td>https://s3-media3.fl.yelpcdn.com/bphoto/YbjY1z...</td>\n",
       "      <td>False</td>\n",
       "      <td>https://www.yelp.com/biz/oh-brother-philly-phi...</td>\n",
       "      <td>643</td>\n",
       "      <td>[{'alias': 'cheesesteaks', 'title': 'Cheeseste...</td>\n",
       "      <td>4.5</td>\n",
       "      <td>{'latitude': 39.94971, 'longitude': -75.14411}</td>\n",
       "      <td>[pickup, delivery]</td>\n",
       "      <td>$$</td>\n",
       "      <td>{'address1': '206 Market St', 'address2': '', ...</td>\n",
       "      <td>+12155153255</td>\n",
       "      <td>(215) 515-3255</td>\n",
       "      <td>2349.426824</td>\n",
       "    </tr>\n",
       "    <tr>\n",
       "      <th>4</th>\n",
       "      <td>LM54ufrINJWoTN5imV8Etw</td>\n",
       "      <td>johns-roast-pork-philadelphia</td>\n",
       "      <td>John's Roast Pork</td>\n",
       "      <td>https://s3-media4.fl.yelpcdn.com/bphoto/C5APCS...</td>\n",
       "      <td>False</td>\n",
       "      <td>https://www.yelp.com/biz/johns-roast-pork-phil...</td>\n",
       "      <td>1681</td>\n",
       "      <td>[{'alias': 'sandwiches', 'title': 'Sandwiches'...</td>\n",
       "      <td>4.5</td>\n",
       "      <td>{'latitude': 39.9210273851256, 'longitude': -7...</td>\n",
       "      <td>[delivery]</td>\n",
       "      <td>$$</td>\n",
       "      <td>{'address1': '14 E Snyder Ave', 'address2': ''...</td>\n",
       "      <td>+12154631951</td>\n",
       "      <td>(215) 463-1951</td>\n",
       "      <td>4271.479109</td>\n",
       "    </tr>\n",
       "  </tbody>\n",
       "</table>\n",
       "</div>"
      ],
      "text/plain": [
       "                       id                                          alias  \\\n",
       "0  RQAF6a0akMiot5lZZnMNNw  dalessandro-s-steaks-and-hoagies-philadelphia   \n",
       "1  jxEMFqwDJXjCxmcm5t5jVQ                          cleavers-philadelphia   \n",
       "2  -mIlmp5l4hKlp1tvHRdvTg              sonnys-famous-steaks-philadelphia   \n",
       "3  7pAgxBMUjrVPH7xh3fn-gw                 oh-brother-philly-philadelphia   \n",
       "4  LM54ufrINJWoTN5imV8Etw                  johns-roast-pork-philadelphia   \n",
       "\n",
       "                             name  \\\n",
       "0  Dalessandro’s Steaks & Hoagies   \n",
       "1                        Cleavers   \n",
       "2           Sonny's Famous Steaks   \n",
       "3               Oh Brother Philly   \n",
       "4               John's Roast Pork   \n",
       "\n",
       "                                           image_url  is_closed  \\\n",
       "0  https://s3-media1.fl.yelpcdn.com/bphoto/MRvZIW...      False   \n",
       "1  https://s3-media1.fl.yelpcdn.com/bphoto/9dfyW_...      False   \n",
       "2  https://s3-media2.fl.yelpcdn.com/bphoto/c333HA...      False   \n",
       "3  https://s3-media3.fl.yelpcdn.com/bphoto/YbjY1z...      False   \n",
       "4  https://s3-media4.fl.yelpcdn.com/bphoto/C5APCS...      False   \n",
       "\n",
       "                                                 url  review_count  \\\n",
       "0  https://www.yelp.com/biz/dalessandro-s-steaks-...          2952   \n",
       "1  https://www.yelp.com/biz/cleavers-philadelphia...          1440   \n",
       "2  https://www.yelp.com/biz/sonnys-famous-steaks-...          1811   \n",
       "3  https://www.yelp.com/biz/oh-brother-philly-phi...           643   \n",
       "4  https://www.yelp.com/biz/johns-roast-pork-phil...          1681   \n",
       "\n",
       "                                          categories  rating  \\\n",
       "0  [{'alias': 'sandwiches', 'title': 'Sandwiches'...     4.0   \n",
       "1  [{'alias': 'cheesesteaks', 'title': 'Cheeseste...     4.0   \n",
       "2  [{'alias': 'cheesesteaks', 'title': 'Cheeseste...     4.0   \n",
       "3  [{'alias': 'cheesesteaks', 'title': 'Cheeseste...     4.5   \n",
       "4  [{'alias': 'sandwiches', 'title': 'Sandwiches'...     4.5   \n",
       "\n",
       "                                         coordinates        transactions  \\\n",
       "0  {'latitude': 40.029494, 'longitude': -75.2059714}          [delivery]   \n",
       "1  {'latitude': 39.9513931274414, 'longitude': -7...  [pickup, delivery]   \n",
       "2  {'latitude': 39.94982923010674, 'longitude': -...  [pickup, delivery]   \n",
       "3     {'latitude': 39.94971, 'longitude': -75.14411}  [pickup, delivery]   \n",
       "4  {'latitude': 39.9210273851256, 'longitude': -7...          [delivery]   \n",
       "\n",
       "  price                                           location         phone  \\\n",
       "0    $$  {'address1': '600 Wendover St', 'address2': ''...  +12154825407   \n",
       "1    $$  {'address1': '108 S 18th St', 'address2': '', ...  +12155153828   \n",
       "2    $$  {'address1': '228 Market St', 'address2': '', ...  +12156295760   \n",
       "3    $$  {'address1': '206 Market St', 'address2': '', ...  +12155153255   \n",
       "4    $$  {'address1': '14 E Snyder Ave', 'address2': ''...  +12154631951   \n",
       "\n",
       "    display_phone     distance  \n",
       "0  (215) 482-5407  8924.599279  \n",
       "1  (215) 515-3828   268.685385  \n",
       "2  (215) 629-5760  2293.831534  \n",
       "3  (215) 515-3255  2349.426824  \n",
       "4  (215) 463-1951  4271.479109  "
      ]
     },
     "metadata": {},
     "output_type": "display_data"
    },
    {
     "data": {
      "text/html": [
       "<div>\n",
       "<style scoped>\n",
       "    .dataframe tbody tr th:only-of-type {\n",
       "        vertical-align: middle;\n",
       "    }\n",
       "\n",
       "    .dataframe tbody tr th {\n",
       "        vertical-align: top;\n",
       "    }\n",
       "\n",
       "    .dataframe thead th {\n",
       "        text-align: right;\n",
       "    }\n",
       "</style>\n",
       "<table border=\"1\" class=\"dataframe\">\n",
       "  <thead>\n",
       "    <tr style=\"text-align: right;\">\n",
       "      <th></th>\n",
       "      <th>id</th>\n",
       "      <th>alias</th>\n",
       "      <th>name</th>\n",
       "      <th>image_url</th>\n",
       "      <th>is_closed</th>\n",
       "      <th>url</th>\n",
       "      <th>review_count</th>\n",
       "      <th>categories</th>\n",
       "      <th>rating</th>\n",
       "      <th>coordinates</th>\n",
       "      <th>transactions</th>\n",
       "      <th>price</th>\n",
       "      <th>location</th>\n",
       "      <th>phone</th>\n",
       "      <th>display_phone</th>\n",
       "      <th>distance</th>\n",
       "    </tr>\n",
       "  </thead>\n",
       "  <tbody>\n",
       "    <tr>\n",
       "      <th>995</th>\n",
       "      <td>bc0ZNDZfeMRdGl9S0vkfZA</td>\n",
       "      <td>eddies-pizza-philadelphia</td>\n",
       "      <td>Eddie's Pizza</td>\n",
       "      <td>https://s3-media1.fl.yelpcdn.com/bphoto/fjmZbE...</td>\n",
       "      <td>False</td>\n",
       "      <td>https://www.yelp.com/biz/eddies-pizza-philadel...</td>\n",
       "      <td>6</td>\n",
       "      <td>[{'alias': 'pizza', 'title': 'Pizza'}]</td>\n",
       "      <td>4.5</td>\n",
       "      <td>{'latitude': 39.9808347, 'longitude': -75.151612}</td>\n",
       "      <td>[delivery]</td>\n",
       "      <td>$$</td>\n",
       "      <td>{'address1': '1200 W Berks St', 'address2': ''...</td>\n",
       "      <td>+12157638028</td>\n",
       "      <td>(215) 763-8028</td>\n",
       "      <td>3366.894080</td>\n",
       "    </tr>\n",
       "    <tr>\n",
       "      <th>996</th>\n",
       "      <td>Y7asEgUrJc3W9vD7wxEnQg</td>\n",
       "      <td>rhythm-and-brunch-philadelphia</td>\n",
       "      <td>Rhythm and Brunch</td>\n",
       "      <td>https://s3-media1.fl.yelpcdn.com/bphoto/WnqfIR...</td>\n",
       "      <td>False</td>\n",
       "      <td>https://www.yelp.com/biz/rhythm-and-brunch-phi...</td>\n",
       "      <td>120</td>\n",
       "      <td>[{'alias': 'newamerican', 'title': 'American (...</td>\n",
       "      <td>4.0</td>\n",
       "      <td>{'latitude': 39.9219015059064, 'longitude': -7...</td>\n",
       "      <td>[pickup, delivery]</td>\n",
       "      <td>$$</td>\n",
       "      <td>{'address1': '6517 Elmwood Ave', 'address2': '...</td>\n",
       "      <td>+12159219915</td>\n",
       "      <td>(215) 921-9915</td>\n",
       "      <td>6220.116589</td>\n",
       "    </tr>\n",
       "    <tr>\n",
       "      <th>997</th>\n",
       "      <td>3tR1GRfd-0moZ8F-L6MGaA</td>\n",
       "      <td>hilltown-tavern-fairmount-philadelphia</td>\n",
       "      <td>Hilltown Tavern - Fairmount</td>\n",
       "      <td>https://s3-media2.fl.yelpcdn.com/bphoto/BqNklK...</td>\n",
       "      <td>False</td>\n",
       "      <td>https://www.yelp.com/biz/hilltown-tavern-fairm...</td>\n",
       "      <td>31</td>\n",
       "      <td>[{'alias': 'pubs', 'title': 'Pubs'}, {'alias':...</td>\n",
       "      <td>3.5</td>\n",
       "      <td>{'latitude': 39.96979, 'longitude': -75.17622}</td>\n",
       "      <td>[pickup, delivery]</td>\n",
       "      <td>NaN</td>\n",
       "      <td>{'address1': '795 N 24th St', 'address2': '', ...</td>\n",
       "      <td>+12675199580</td>\n",
       "      <td>(267) 519-9580</td>\n",
       "      <td>1833.170151</td>\n",
       "    </tr>\n",
       "    <tr>\n",
       "      <th>998</th>\n",
       "      <td>S2jYmxBR0o5ayDzu46VY3A</td>\n",
       "      <td>charleys-cheesesteaks-philadelphia</td>\n",
       "      <td>Charleys Cheesesteaks</td>\n",
       "      <td>https://s3-media3.fl.yelpcdn.com/bphoto/dkbwi2...</td>\n",
       "      <td>False</td>\n",
       "      <td>https://www.yelp.com/biz/charleys-cheesesteaks...</td>\n",
       "      <td>3</td>\n",
       "      <td>[{'alias': 'sandwiches', 'title': 'Sandwiches'}]</td>\n",
       "      <td>4.5</td>\n",
       "      <td>{'latitude': 40.0899766, 'longitude': -74.959213}</td>\n",
       "      <td>[pickup, delivery]</td>\n",
       "      <td>NaN</td>\n",
       "      <td>{'address1': '1455 Franklin Mills Cir', 'addre...</td>\n",
       "      <td>+12156370946</td>\n",
       "      <td>(215) 637-0946</td>\n",
       "      <td>23278.297116</td>\n",
       "    </tr>\n",
       "    <tr>\n",
       "      <th>999</th>\n",
       "      <td>DZbbKtBYp18VWJ032ir_qQ</td>\n",
       "      <td>old-state-tavern-media</td>\n",
       "      <td>Old State Tavern</td>\n",
       "      <td>https://s3-media4.fl.yelpcdn.com/bphoto/OAMRRQ...</td>\n",
       "      <td>False</td>\n",
       "      <td>https://www.yelp.com/biz/old-state-tavern-medi...</td>\n",
       "      <td>62</td>\n",
       "      <td>[{'alias': 'sportsbars', 'title': 'Sports Bars...</td>\n",
       "      <td>4.5</td>\n",
       "      <td>{'latitude': 39.928786, 'longitude': -75.383186}</td>\n",
       "      <td>[pickup, delivery]</td>\n",
       "      <td>$</td>\n",
       "      <td>{'address1': '38 State Rd', 'address2': '', 'a...</td>\n",
       "      <td>+16105669920</td>\n",
       "      <td>(610) 566-9920</td>\n",
       "      <td>18284.690748</td>\n",
       "    </tr>\n",
       "  </tbody>\n",
       "</table>\n",
       "</div>"
      ],
      "text/plain": [
       "                         id                                   alias  \\\n",
       "995  bc0ZNDZfeMRdGl9S0vkfZA               eddies-pizza-philadelphia   \n",
       "996  Y7asEgUrJc3W9vD7wxEnQg          rhythm-and-brunch-philadelphia   \n",
       "997  3tR1GRfd-0moZ8F-L6MGaA  hilltown-tavern-fairmount-philadelphia   \n",
       "998  S2jYmxBR0o5ayDzu46VY3A      charleys-cheesesteaks-philadelphia   \n",
       "999  DZbbKtBYp18VWJ032ir_qQ                  old-state-tavern-media   \n",
       "\n",
       "                            name  \\\n",
       "995                Eddie's Pizza   \n",
       "996            Rhythm and Brunch   \n",
       "997  Hilltown Tavern - Fairmount   \n",
       "998        Charleys Cheesesteaks   \n",
       "999             Old State Tavern   \n",
       "\n",
       "                                             image_url  is_closed  \\\n",
       "995  https://s3-media1.fl.yelpcdn.com/bphoto/fjmZbE...      False   \n",
       "996  https://s3-media1.fl.yelpcdn.com/bphoto/WnqfIR...      False   \n",
       "997  https://s3-media2.fl.yelpcdn.com/bphoto/BqNklK...      False   \n",
       "998  https://s3-media3.fl.yelpcdn.com/bphoto/dkbwi2...      False   \n",
       "999  https://s3-media4.fl.yelpcdn.com/bphoto/OAMRRQ...      False   \n",
       "\n",
       "                                                   url  review_count  \\\n",
       "995  https://www.yelp.com/biz/eddies-pizza-philadel...             6   \n",
       "996  https://www.yelp.com/biz/rhythm-and-brunch-phi...           120   \n",
       "997  https://www.yelp.com/biz/hilltown-tavern-fairm...            31   \n",
       "998  https://www.yelp.com/biz/charleys-cheesesteaks...             3   \n",
       "999  https://www.yelp.com/biz/old-state-tavern-medi...            62   \n",
       "\n",
       "                                            categories  rating  \\\n",
       "995             [{'alias': 'pizza', 'title': 'Pizza'}]     4.5   \n",
       "996  [{'alias': 'newamerican', 'title': 'American (...     4.0   \n",
       "997  [{'alias': 'pubs', 'title': 'Pubs'}, {'alias':...     3.5   \n",
       "998   [{'alias': 'sandwiches', 'title': 'Sandwiches'}]     4.5   \n",
       "999  [{'alias': 'sportsbars', 'title': 'Sports Bars...     4.5   \n",
       "\n",
       "                                           coordinates        transactions  \\\n",
       "995  {'latitude': 39.9808347, 'longitude': -75.151612}          [delivery]   \n",
       "996  {'latitude': 39.9219015059064, 'longitude': -7...  [pickup, delivery]   \n",
       "997     {'latitude': 39.96979, 'longitude': -75.17622}  [pickup, delivery]   \n",
       "998  {'latitude': 40.0899766, 'longitude': -74.959213}  [pickup, delivery]   \n",
       "999   {'latitude': 39.928786, 'longitude': -75.383186}  [pickup, delivery]   \n",
       "\n",
       "    price                                           location         phone  \\\n",
       "995    $$  {'address1': '1200 W Berks St', 'address2': ''...  +12157638028   \n",
       "996    $$  {'address1': '6517 Elmwood Ave', 'address2': '...  +12159219915   \n",
       "997   NaN  {'address1': '795 N 24th St', 'address2': '', ...  +12675199580   \n",
       "998   NaN  {'address1': '1455 Franklin Mills Cir', 'addre...  +12156370946   \n",
       "999     $  {'address1': '38 State Rd', 'address2': '', 'a...  +16105669920   \n",
       "\n",
       "      display_phone      distance  \n",
       "995  (215) 763-8028   3366.894080  \n",
       "996  (215) 921-9915   6220.116589  \n",
       "997  (267) 519-9580   1833.170151  \n",
       "998  (215) 637-0946  23278.297116  \n",
       "999  (610) 566-9920  18284.690748  "
      ]
     },
     "metadata": {},
     "output_type": "display_data"
    }
   ],
   "source": [
    "# load final results\n",
    "final_df = pd.read_json(JSON_FILE)\n",
    "display(final_df.head(), final_df.tail())"
   ]
  },
  {
   "cell_type": "code",
   "execution_count": 49,
   "id": "04635ac3",
   "metadata": {},
   "outputs": [
    {
     "data": {
      "text/plain": [
       "0"
      ]
     },
     "execution_count": 49,
     "metadata": {},
     "output_type": "execute_result"
    }
   ],
   "source": [
    "# check for duplicate ID's \n",
    "final_df.duplicated(subset='id').sum()\n",
    "\n",
    "# No duplicates to remove"
   ]
  },
  {
   "cell_type": "code",
   "execution_count": 50,
   "id": "fe87a6d3",
   "metadata": {},
   "outputs": [],
   "source": [
    "# save the final results to a compressed csv\n",
    "final_df.to_csv('Data/final_results_Philly_cheesesteak.csv.gz', compression='gzip',index=False)"
   ]
  }
 ],
 "metadata": {
  "kernelspec": {
   "display_name": "Python (dojo-env)",
   "language": "python",
   "name": "dojo-env"
  },
  "language_info": {
   "codemirror_mode": {
    "name": "ipython",
    "version": 3
   },
   "file_extension": ".py",
   "mimetype": "text/x-python",
   "name": "python",
   "nbconvert_exporter": "python",
   "pygments_lexer": "ipython3",
   "version": "3.8.13"
  },
  "toc": {
   "base_numbering": 1,
   "nav_menu": {},
   "number_sections": false,
   "sideBar": true,
   "skip_h1_title": false,
   "title_cell": "Table of Contents",
   "title_sidebar": "Contents",
   "toc_cell": false,
   "toc_position": {
    "height": "calc(100% - 180px)",
    "left": "10px",
    "top": "150px",
    "width": "294.55px"
   },
   "toc_section_display": true,
   "toc_window_display": true
  }
 },
 "nbformat": 4,
 "nbformat_minor": 5
}
